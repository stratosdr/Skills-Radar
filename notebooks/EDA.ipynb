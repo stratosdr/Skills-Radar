{
 "cells": [
  {
   "cell_type": "code",
   "execution_count": null,
   "id": "197ff1e4",
   "metadata": {
    "vscode": {
     "languageId": "plaintext"
    }
   },
   "outputs": [],
   "source": [
    "import pandas as pd\n",
    "from collections import Counter\n",
    "import matplotlib.pyplot as plt\n",
    "\n",
    "# Load cleaned job data\n",
    "df = pd.read_csv('../data/jobs_clean.csv')\n",
    "\n",
    "# Combine all job descriptions\n",
    "all_words = ' '.join(df['clean_description']).split()\n",
    "\n",
    "# Count frequency\n",
    "word_counts = Counter(all_words)\n",
    "most_common = word_counts.most_common(20)\n",
    "\n",
    "# Convert to DataFrame\n",
    "freq_df = pd.DataFrame(most_common, columns=['word', 'count'])\n",
    "\n",
    "# Plot\n",
    "plt.figure(figsize=(12,6))\n",
    "plt.bar(freq_df['word'], freq_df['count'])\n",
    "plt.title('Top 20 Most Common Words in Job Descriptions')\n",
    "plt.xticks(rotation=45)\n",
    "plt.tight_layout()\n",
    "plt.show()\n"
   ]
  }
 ],
 "metadata": {
  "language_info": {
   "name": "python"
  }
 },
 "nbformat": 4,
 "nbformat_minor": 5
}
